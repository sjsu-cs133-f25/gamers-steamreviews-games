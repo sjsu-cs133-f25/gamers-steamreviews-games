{
 "cells": [
  {
   "cell_type": "markdown",
   "id": "8f8e7183",
   "metadata": {},
   "source": [
    "# Visual Analysis of the Steam Dataset\n",
    "\n",
    "Please download the datasets at the following link and follow the instructions in `data/README.md`. Keep note of the pathnames used to load in the datasets and ensure they match what is in `data/` directory.\n",
    "\n",
    "https://www.gigasheet.com/sample-data/steam-game-reviews\n",
    "\n",
    "https://www.kaggle.com/datasets/mohamedtarek01234/steam-games-reviews-and-rankings"
   ]
  },
  {
   "cell_type": "markdown",
   "id": "25155ad7",
   "metadata": {},
   "source": [
    "# A. Data Card\n",
    "\n",
    "This section will explain what is contained in each point of our dataset."
   ]
  },
  {
   "cell_type": "markdown",
   "id": "b7b7f8ac",
   "metadata": {},
   "source": [
    "### Datasets\n",
    "\n",
    "*Steam Game Reviews:* https://www.gigasheet.com/sample-data/steam-game-reviews ~464MB\n",
    "\n",
    "This dataset consists of ~990K rows of reviews taken from SteamDB, a database for the video game vendor, Steam.\n",
    "\n",
    "*Steam Game Reviews and Rankings:* https://www.kaggle.com/datasets/mohamedtarek01234/steam-games-reviews-and-rankings ~1MB\n",
    " \n",
    "This dataset is where we source game metadata to enrich our review information. This will help give better insights into the relationship between the kind of game and the reviews.\n",
    "\n",
    "**Shape**\n",
    "\n",
    "*Steam Game Reviews:* (992153, 8)\n",
    "\n",
    "*Steam Game Reviews and Rankings:* (290, 13)\n",
    "\n",
    "*Merged Working Dataset:* (992153, 24)\n",
    "\n",
    "**Time**\n",
    "\n",
    "This dataset covers review information from 2010-2024, with far more data coming from more recent time. (View visuals for review count by month/year)"
   ]
  },
  {
   "cell_type": "markdown",
   "id": "5aa96f31",
   "metadata": {},
   "source": [
    "### Column Dictionary\n",
    "\n",
    "**For the working merged dataset**\n",
    "\n",
    "**Provided Columns**    \n",
    "`review` - The user's review string for the game   \n",
    "`hours_played` - the amount of hours of the game the user played when they posted the review   \n",
    "`helpful` - the amount of 'helpful' votes the user received from other users for their review   \n",
    "`funny` - the amount of 'funny' votes the user received from other users for their review   \n",
    "`recommendation` - whether the user recommends the game or not (0 - no, 1 - yes)   \n",
    "`date` - the date when the user posted the review   \n",
    "`game_name` - name of the game the user reviewed   \n",
    "`username` - the user's personal alias   \n",
    "`short_description` - the shortened description of the game from SteamDB   \n",
    "`long_description` - the full description of the game from SteamDB   \n",
    "`genres` - The list of genres that the game belongs to (ie. Action, Adventure, Horror...)   \n",
    "`minimum_system_requirements` - the minimum hardware specs needed to run the game   \n",
    "`recommended_system_requirements` - the hardware specs recommended by the developer to run the game smoothly   \n",
    "`release_date` - the date when the game was released   \n",
    "`developer` - the studio who developed the game   \n",
    "`publisher` - the parent company that licensed the development of the game   \n",
    "`overall_player_rating` - the overall average rating all reviews gave to the game (categorical)   \n",
    "`number_of_reviews_from_purchased_people` - total number of reviews from players who purchased the game   \n",
    "`number_of_english_reviews` - total number of reviews in english from players who purchased the game   \n",
    "`link` - the link to the Steam page of the game   \n",
    "\n",
    "**Created Columns by Us**     \n",
    "`popular` - boolean value whether or not the review has >50 helpful votes   \n",
    "`cat_playtime` - categorized bucketing for playtime hours     \n",
    "`rec_ratio` - the ratio for recommended reviews to total reviews for the game based on the dataset reviews     \n",
    "`in_sale` - a boolean that tells whether the review was posted during major sale periods (Summer - July, Winter - January)    "
   ]
  },
  {
   "cell_type": "markdown",
   "id": "c2255439",
   "metadata": {},
   "source": [
    "### Missingness Snapshot\n",
    "\n",
    "*Steam Reviews*   \n",
    "503 total missing reviews    \n",
    "81 usernames    \n",
    "\n",
    "*Steam Game Metadata*    \n",
    "13 short descriptions (can be manually filled in)   \n",
    "\n",
    "*Merged Working Dataset*    \n",
    "Dates                                      1775    \n",
    "short_description                          66892       \n",
    "long_description                           66892    \n",
    "genres                                     66892     \n",
    "minimum_system_requirement                 66892   \n",
    "recommend_system_requirement               66892    \n",
    "release_date                               76879    \n",
    "developer                                  66892    \n",
    "publisher                                  66892    \n",
    "overall_player_rating                      66892   \n",
    "number_of_reviews_from_purchased_people    66892    \n",
    "number_of_english_reviews                  66892   \n",
    "link                                       66892   \n",
    "\n",
    "The missing information from the merged dataset stems from the 11 games not covered by the metadata dataset. Can be filled manually."
   ]
  },
  {
   "cell_type": "markdown",
   "id": "802f0f95",
   "metadata": {},
   "source": [
    "### Quirks\n",
    "\n",
    "1. Recent reviews do not include the year (because on Steam if a review is recent then it is just denoted by month and day). This was remedied by simply applying the year 2024 to all reviews missing a year. (data was collected in September of 2024)\n",
    "2. A few usernames are poorly formatted and need to be fixed\n",
    "3. 11 Games are missing metadata and can be filled manually\n",
    "4. If a publisher owns their own development studio, then the publisher and developer will be the same.\n",
    "5. A few of the review fields contain the year and need to be removed.\n",
    "6. Genres, system requirements, and long_description are all list objects."
   ]
  },
  {
   "cell_type": "markdown",
   "id": "312188a4",
   "metadata": {},
   "source": [
    "# 2 - Setup"
   ]
  },
  {
   "cell_type": "markdown",
   "id": "c08809ea",
   "metadata": {},
   "source": [
    "### 2.1 Imports\n",
    "\n",
    "Handles imports needed to run all cells in the notebook. If you haven't yet please run `pip install -r requirements.txt` \n",
    "in the main directory console to get necessary dependencies."
   ]
  },
  {
   "cell_type": "code",
   "execution_count": 2,
   "id": "250bbbae",
   "metadata": {},
   "outputs": [
    {
     "ename": "ModuleNotFoundError",
     "evalue": "No module named 'seaborn'",
     "output_type": "error",
     "traceback": [
      "\u001b[31m---------------------------------------------------------------------------\u001b[39m",
      "\u001b[31mModuleNotFoundError\u001b[39m                       Traceback (most recent call last)",
      "\u001b[36mCell\u001b[39m\u001b[36m \u001b[39m\u001b[32mIn[2]\u001b[39m\u001b[32m, line 3\u001b[39m\n\u001b[32m      1\u001b[39m \u001b[38;5;28;01mimport\u001b[39;00m\u001b[38;5;250m \u001b[39m\u001b[34;01mpandas\u001b[39;00m\u001b[38;5;250m \u001b[39m\u001b[38;5;28;01mas\u001b[39;00m\u001b[38;5;250m \u001b[39m\u001b[34;01mpd\u001b[39;00m\n\u001b[32m      2\u001b[39m \u001b[38;5;28;01mimport\u001b[39;00m\u001b[38;5;250m \u001b[39m\u001b[34;01mmatplotlib\u001b[39;00m\u001b[34;01m.\u001b[39;00m\u001b[34;01mpyplot\u001b[39;00m\u001b[38;5;250m \u001b[39m\u001b[38;5;28;01mas\u001b[39;00m\u001b[38;5;250m \u001b[39m\u001b[34;01mplt\u001b[39;00m\n\u001b[32m----> \u001b[39m\u001b[32m3\u001b[39m \u001b[38;5;28;01mimport\u001b[39;00m\u001b[38;5;250m \u001b[39m\u001b[34;01mseaborn\u001b[39;00m\u001b[38;5;250m \u001b[39m\u001b[38;5;28;01mas\u001b[39;00m\u001b[38;5;250m \u001b[39m\u001b[34;01msns\u001b[39;00m\n",
      "\u001b[31mModuleNotFoundError\u001b[39m: No module named 'seaborn'"
     ]
    }
   ],
   "source": [
    "import pandas as pd\n",
    "import matplotlib.pyplot as plt\n",
    "import seaborn as sns"
   ]
  },
  {
   "cell_type": "markdown",
   "id": "6e73e2da",
   "metadata": {},
   "source": [
    "### 2.2 Load Datasets\n",
    "\n",
    "This will load in all datasets that accompany this project. If you have not already, please follow the instructions in `data/README.md` to download the datasets required."
   ]
  },
  {
   "cell_type": "code",
   "execution_count": 1,
   "id": "479aac3b",
   "metadata": {},
   "outputs": [
    {
     "ename": "NameError",
     "evalue": "name 'pd' is not defined",
     "output_type": "error",
     "traceback": [
      "\u001b[31m---------------------------------------------------------------------------\u001b[39m",
      "\u001b[31mNameError\u001b[39m                                 Traceback (most recent call last)",
      "\u001b[36mCell\u001b[39m\u001b[36m \u001b[39m\u001b[32mIn[1]\u001b[39m\u001b[32m, line 5\u001b[39m\n\u001b[32m      1\u001b[39m reviews_path = \u001b[33m'\u001b[39m\u001b[33m../data/Steam Game Reviews export 2025-09-22 03-26-24.csv\u001b[39m\u001b[33m'\u001b[39m \u001b[38;5;66;03m# Replace with the path to your reviews CSV File\u001b[39;00m\n\u001b[32m      2\u001b[39m game_metadata_path = \u001b[33m'\u001b[39m\u001b[33m../data/games_description.csv\u001b[39m\u001b[33m'\u001b[39m \u001b[38;5;66;03m# Replace with path to game metadata CSV file, NOTE make sure to go to parent dir in the path\u001b[39;00m\n\u001b[32m----> \u001b[39m\u001b[32m5\u001b[39m steamreviews = \u001b[43mpd\u001b[49m.read_csv(reviews_path)\n\u001b[32m      6\u001b[39m gamemetadata = pd.read_csv(game_metadata_path)\n\u001b[32m      7\u001b[39m steamreviews.head()\n",
      "\u001b[31mNameError\u001b[39m: name 'pd' is not defined"
     ]
    }
   ],
   "source": [
    "reviews_path = '../data/Steam Game Reviews export 2025-09-22 03-26-24.csv' # Replace with the path to your reviews CSV File\n",
    "game_metadata_path = '../data/games_description.csv' # Replace with path to game metadata CSV file, NOTE make sure to go to parent dir in the path\n",
    "\n",
    "\n",
    "steamreviews = pd.read_csv(reviews_path)\n",
    "gamemetadata = pd.read_csv(game_metadata_path)\n",
    "steamreviews.head()"
   ]
  },
  {
   "cell_type": "code",
   "execution_count": null,
   "id": "68478c29",
   "metadata": {},
   "outputs": [],
   "source": [
    "gamemetadata.head()"
   ]
  },
  {
   "cell_type": "markdown",
   "id": "123f2072",
   "metadata": {},
   "source": [
    "### 2.3 Merge Datasets\n",
    "\n",
    "We can combine the review dataset and game metadata dataset to enrich each review."
   ]
  },
  {
   "cell_type": "code",
   "execution_count": null,
   "id": "d233b16b",
   "metadata": {},
   "outputs": [],
   "source": [
    "steamdataset = pd.merge(steamreviews, gamemetadata, left_on='game_name', right_on='name', how='left') ## This is like a join in SQL, so we join based on the game name\n",
    "steamdataset.drop(columns=['name'], inplace=True) # don't need 2 names :)\n",
    "steamdataset"
   ]
  },
  {
   "cell_type": "markdown",
   "id": "90c5e1cf",
   "metadata": {},
   "source": []
  }
 ],
 "metadata": {
  "kernelspec": {
   "display_name": "venv",
   "language": "python",
   "name": "python3"
  },
  "language_info": {
   "codemirror_mode": {
    "name": "ipython",
    "version": 3
   },
   "file_extension": ".py",
   "mimetype": "text/x-python",
   "name": "python",
   "nbconvert_exporter": "python",
   "pygments_lexer": "ipython3",
   "version": "3.12.6"
  }
 },
 "nbformat": 4,
 "nbformat_minor": 5
}
